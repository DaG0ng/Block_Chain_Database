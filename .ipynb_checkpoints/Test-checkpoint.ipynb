{
 "cells": [
  {
   "cell_type": "code",
   "execution_count": 3,
   "id": "0b52890c",
   "metadata": {},
   "outputs": [],
   "source": [
    "import hashlib\n",
    "import json\n",
    "\n",
    "\n",
    "class Block:\n",
    "    def __init__(self, index, data, timestamp, previous_hash, nonce=0):\n",
    "        self.index = index\n",
    "        self.data = data\n",
    "        self.timestamp = timestamp\n",
    "        self.previous_hash = previous_hash\n",
    "        self.nonce = nonce\n",
    "\n",
    "    def compute_hash(self):\n",
    "        block_string = json.dumps(self.__dict__, sort_keys=True)\n",
    "        return hashlib.sha256(block_string.encode()).hexdigest()\n",
    "\n",
    "    def __repr__(self):\n",
    "        return 'Block: {}'.format(self.__dict__)\n",
    "\n"
   ]
  },
  {
   "cell_type": "code",
   "execution_count": 15,
   "id": "83330a46",
   "metadata": {},
   "outputs": [],
   "source": [
    "import time\n",
    "from timeit import default_timer as timer\n",
    "from datetime import timedelta\n",
    "import copy\n",
    "\n",
    "class Blockchain:\n",
    "    def __init__(self):\n",
    "        self.new_data = []\n",
    "        self.chain = []\n",
    "        self.difficulty = 1\n",
    "        self.integrity_lst=[]\n",
    "        self.__create_genesis_block()\n",
    "\n",
    "        \n",
    "    def __create_genesis_block(self):\n",
    "        genesis_block = Block(0, [], time.time(), 0)\n",
    "        genesis_block.hash = genesis_block.compute_hash()\n",
    "        self.chain.append(genesis_block)\n",
    "\n",
    "    def add_new_data(self, data):\n",
    "        self.new_data.append(data)\n",
    "\n",
    "    def mine(self):\n",
    "        if not self.new_data:\n",
    "            return False\n",
    "        last_block = self.last_block\n",
    "        new_block = Block(index=last_block.index + 1,\n",
    "                          data=self.new_data,\n",
    "                          timestamp=time.time(),\n",
    "                          previous_hash=last_block.hash)\n",
    "        proof = self.__proof_of_work(new_block)\n",
    "        self.__add_block(new_block, proof)\n",
    "        self.new_data = []\n",
    "        return new_block.index\n",
    "\n",
    "    @property\n",
    "    def last_block(self):\n",
    "        return self.chain[-1]\n",
    "    \n",
    "    def __proof_of_work(self, block):\n",
    "        start = timer()\n",
    "        block.nonce = 0\n",
    "        computed_hash = block.compute_hash()\n",
    "        print('Mining block {}'.format(block.index))\n",
    "        print('Difficulty: {}'.format(self.difficulty))\n",
    "        while not computed_hash.startswith('0' * self.difficulty):\n",
    "            block.nonce += 1\n",
    "            computed_hash = block.compute_hash()\n",
    "        print('Computed hash: {}'.format(computed_hash))\n",
    "        print('Nonce: {}'.format(block.nonce))\n",
    "        end = timer()\n",
    "        print('Elapsed time: {}'.format(timedelta(seconds=end - start)))\n",
    "        return computed_hash\n",
    "\n",
    "    def __is_valid_proof(self, block, block_hash):\n",
    "        return block_hash.startswith('0' * self.difficulty) and block_hash == block.compute_hash()\n",
    "\n",
    "    def __add_block(self, block, proof):\n",
    "        previous_hash = self.last_block.hash\n",
    "        if previous_hash != block.previous_hash:\n",
    "            return False\n",
    "        if not self.__is_valid_proof(block, proof):\n",
    "            return False\n",
    "        block.hash = proof\n",
    "        self.chain.append(block)\n",
    "        return True\n",
    "    \n",
    "    \n",
    "    def verify_integrity(self):\n",
    "        for i in self.chain:\n",
    "            temp=copy.deepcopy(i)\n",
    "            print(temp.__dict__)\n",
    "            del temp.hash\n",
    "            if temp.compute_hash()!=i.hash:\n",
    "                print(temp.compute_hash())\n",
    "                print(i.hash)\n",
    "                print(\"Integrity Failed\")\n",
    "                print(\"Block {} got unverified change.\".format(temp.index))\n",
    "                return False\n",
    "        for i in range(1,len(self.chain)-1):\n",
    "            if self.chain[i].previous_hash!=self.chain[i-1].hash:\n",
    "                print(\"Integrity Failed\")\n",
    "                return False\n",
    "        print(\"Integrity Ensured\")\n",
    "        return True\n",
    "    \n",
    "    def view_by_hash_code(self, hash_code):\n",
    "        for i in self.chain:\n",
    "            if hash_code==i.hash:\n",
    "                return i\n",
    "        print(\"Nothing fit your search\")\n",
    "        \n",
    "    def edit_by_hash_code(self, hash_code, new_data):\n",
    "        delete_blocks=0\n",
    "        for i in self.chain:\n",
    "            if hash_code==i.hash:\n",
    "                delete_blocks=i.index\n",
    "                break\n",
    "        print(delete_blocks)\n",
    "        temp_chain=self.chain[delete_blocks+1:]\n",
    "        self.chain=self.chain[:delete_blocks]\n",
    "        self.add_new_data(new_data)\n",
    "        print(temp_chain)\n",
    "        print(self.chain)\n",
    "        self.mine()\n",
    "        for i in temp_chain:\n",
    "            self.add_new_data(i.data)\n",
    "            self.mine()"
   ]
  },
  {
   "cell_type": "code",
   "execution_count": 16,
   "id": "3fc3656e",
   "metadata": {},
   "outputs": [
    {
     "name": "stdout",
     "output_type": "stream",
     "text": [
      "[Block: {'index': 0, 'data': [], 'timestamp': 1668954224.107649, 'previous_hash': 0, 'nonce': 0, 'hash': '72fdf6dca1e9f2ad63c00a92071df88484a287b1300c152833b6e6f857c534a9'}]\n"
     ]
    }
   ],
   "source": [
    "blockchain = Blockchain()\n",
    "print(blockchain.chain)"
   ]
  },
  {
   "cell_type": "code",
   "execution_count": 17,
   "id": "9df59a9c",
   "metadata": {},
   "outputs": [
    {
     "name": "stdout",
     "output_type": "stream",
     "text": [
      "Mining block 1\n",
      "Difficulty: 1\n",
      "Computed hash: 073e933ec4b052f87cf71f6eae7672d8df6416fbc8c2573545d440c6320d2bcc\n",
      "Nonce: 40\n",
      "Elapsed time: 0:00:00.002159\n"
     ]
    },
    {
     "data": {
      "text/plain": [
       "1"
      ]
     },
     "execution_count": 17,
     "metadata": {},
     "output_type": "execute_result"
    }
   ],
   "source": [
    "f = open('samples/1.json')\n",
    "data = json.load(f)\n",
    "blockchain.add_new_data(data)\n",
    "blockchain.mine()"
   ]
  },
  {
   "cell_type": "code",
   "execution_count": 18,
   "id": "962d7c03",
   "metadata": {},
   "outputs": [
    {
     "name": "stdout",
     "output_type": "stream",
     "text": [
      "Mining block 2\n",
      "Difficulty: 1\n",
      "Computed hash: 0ed603d9cfd82d17c1d1e4b9c28bef0dfcace61d6da6a8941e61418904f81a2a\n",
      "Nonce: 2\n",
      "Elapsed time: 0:00:00.000527\n"
     ]
    },
    {
     "data": {
      "text/plain": [
       "2"
      ]
     },
     "execution_count": 18,
     "metadata": {},
     "output_type": "execute_result"
    }
   ],
   "source": [
    "f = open('samples/2.json')\n",
    "data = json.load(f)\n",
    "blockchain.add_new_data(data)\n",
    "blockchain.mine()"
   ]
  },
  {
   "cell_type": "code",
   "execution_count": 19,
   "id": "989437ae",
   "metadata": {},
   "outputs": [
    {
     "name": "stdout",
     "output_type": "stream",
     "text": [
      "Mining block 3\n",
      "Difficulty: 1\n",
      "Computed hash: 08ddc2af913a5c55d45a0610391f5f848d1f0ef72a125f0f2c6292a401a89528\n",
      "Nonce: 29\n",
      "Elapsed time: 0:00:00.001745\n"
     ]
    },
    {
     "data": {
      "text/plain": [
       "3"
      ]
     },
     "execution_count": 19,
     "metadata": {},
     "output_type": "execute_result"
    }
   ],
   "source": [
    "f = open('samples/3.json')\n",
    "data = json.load(f)\n",
    "blockchain.add_new_data(data)\n",
    "blockchain.mine()"
   ]
  },
  {
   "cell_type": "code",
   "execution_count": 20,
   "id": "2cb1c718",
   "metadata": {},
   "outputs": [
    {
     "name": "stdout",
     "output_type": "stream",
     "text": [
      "[Block: {'index': 0, 'data': [], 'timestamp': 1668954224.107649, 'previous_hash': 0, 'nonce': 0, 'hash': '72fdf6dca1e9f2ad63c00a92071df88484a287b1300c152833b6e6f857c534a9'}, Block: {'index': 1, 'data': [{'resourceType': 'Patient', 'id': 'example', 'text': {'status': 'generated', 'div': '<div xmlns=\"http://www.w3.org/1999/xhtml\">\\n\\t\\t\\t<table>\\n\\t\\t\\t\\t<tbody>\\n\\t\\t\\t\\t\\t<tr>\\n\\t\\t\\t\\t\\t\\t<td>Name</td>\\n\\t\\t\\t\\t\\t\\t<td>Peter James1 \\n              <b>Chalmers</b> (&quot;Jim&quot;)\\n            </td>\\n\\t\\t\\t\\t\\t</tr>\\n\\t\\t\\t\\t\\t<tr>\\n\\t\\t\\t\\t\\t\\t<td>Address</td>\\n\\t\\t\\t\\t\\t\\t<td>534 Erewhon, Pleasantville, Vic, 3999</td>\\n\\t\\t\\t\\t\\t</tr>\\n\\t\\t\\t\\t\\t<tr>\\n\\t\\t\\t\\t\\t\\t<td>Contacts</td>\\n\\t\\t\\t\\t\\t\\t<td>Home: unknown. Work: (03) 5555 6473</td>\\n\\t\\t\\t\\t\\t</tr>\\n\\t\\t\\t\\t\\t<tr>\\n\\t\\t\\t\\t\\t\\t<td>Id</td>\\n\\t\\t\\t\\t\\t\\t<td>MRN: 12345 (Acme Healthcare)</td>\\n\\t\\t\\t\\t\\t</tr>\\n\\t\\t\\t\\t</tbody>\\n\\t\\t\\t</table>\\n\\t\\t</div>'}, 'identifier': [{'use': 'usual', 'type': {'coding': [{'system': 'http://terminology.hl7.org/CodeSystem/v2-0203', 'code': 'MR'}]}, 'system': 'urn:oid:1.2.36.146.595.217.0.1', 'value': '12345', 'period': {'start': '2001-05-06'}, 'assigner': {'display': 'Doctor Apple'}}], 'active': True, 'name': [{'use': 'official', 'family': 'Chalmers', 'given': ['Peter']}, {'use': 'usual', 'given': ['Jim']}, {'use': 'maiden', 'family': 'Windsor', 'given': ['Peter', 'James'], 'period': {'end': '2002'}}], 'telecom': [{'use': 'home'}, {'system': 'phone', 'value': '(03) 5555 6473', 'use': 'work', 'rank': 1}, {'system': 'phone', 'value': '(03) 3410 5613', 'use': 'mobile', 'rank': 2}, {'system': 'phone', 'value': '(03) 5555 8834', 'use': 'old', 'period': {'end': '2014'}}], 'gender': 'male', 'birthDate': '1974-12-25', '_birthDate': {'extension': [{'url': 'http://hl7.org/fhir/StructureDefinition/patient-birthTime', 'valueDateTime': '1974-12-25T14:35:45-05:00'}]}, 'deceasedBoolean': False, 'address': [{'use': 'home', 'type': 'both', 'text': '534 Erewhon St PeasantVille, Rainbow, Vic  3999', 'line': ['534 Erewhon St'], 'city': 'PleasantVille', 'district': 'Rainbow', 'state': 'Vic', 'postalCode': '3999', 'period': {'start': '1974-12-25'}}], 'contact': [{'relationship': [{'coding': [{'system': 'http://terminology.hl7.org/CodeSystem/v2-0131', 'code': 'N'}]}], 'name': {'family': 'du MarchÃ©', '_family': {'extension': [{'url': 'http://hl7.org/fhir/StructureDefinition/humanname-own-prefix', 'valueString': 'VV'}]}, 'given': ['BÃ©nÃ©dicte']}, 'telecom': [{'system': 'phone', 'value': '+33 (237) 998327'}], 'address': {'use': 'home', 'type': 'both', 'line': ['534 Erewhon St'], 'city': 'PleasantVille', 'district': 'Rainbow', 'state': 'Vic', 'postalCode': '3999', 'period': {'start': '1974-12-25'}}, 'gender': 'female', 'period': {'start': '2012'}}], 'managingOrganization': {'reference': 'Organization/1'}}], 'timestamp': 1668954225.3101785, 'previous_hash': '72fdf6dca1e9f2ad63c00a92071df88484a287b1300c152833b6e6f857c534a9', 'nonce': 40, 'hash': '073e933ec4b052f87cf71f6eae7672d8df6416fbc8c2573545d440c6320d2bcc'}, Block: {'index': 2, 'data': [{'resourceType': 'Patient', 'id': 'example', 'text': {'status': 'generated', 'div': '<div xmlns=\"http://www.w3.org/1999/xhtml\">\\n\\t\\t\\t<table>\\n\\t\\t\\t\\t<tbody>\\n\\t\\t\\t\\t\\t<tr>\\n\\t\\t\\t\\t\\t\\t<td>Name</td>\\n\\t\\t\\t\\t\\t\\t<td>Peter James2 \\n              <b>Chalmers</b> (&quot;Jim&quot;)\\n            </td>\\n\\t\\t\\t\\t\\t</tr>\\n\\t\\t\\t\\t\\t<tr>\\n\\t\\t\\t\\t\\t\\t<td>Address</td>\\n\\t\\t\\t\\t\\t\\t<td>534 Erewhon, Pleasantville, Vic, 3999</td>\\n\\t\\t\\t\\t\\t</tr>\\n\\t\\t\\t\\t\\t<tr>\\n\\t\\t\\t\\t\\t\\t<td>Contacts</td>\\n\\t\\t\\t\\t\\t\\t<td>Home: unknown. Work: (03) 5555 6473</td>\\n\\t\\t\\t\\t\\t</tr>\\n\\t\\t\\t\\t\\t<tr>\\n\\t\\t\\t\\t\\t\\t<td>Id</td>\\n\\t\\t\\t\\t\\t\\t<td>MRN: 12345 (Acme Healthcare)</td>\\n\\t\\t\\t\\t\\t</tr>\\n\\t\\t\\t\\t</tbody>\\n\\t\\t\\t</table>\\n\\t\\t</div>'}, 'identifier': [{'use': 'usual', 'type': {'coding': [{'system': 'http://terminology.hl7.org/CodeSystem/v2-0203', 'code': 'MR'}]}, 'system': 'urn:oid:1.2.36.146.595.217.0.1', 'value': '12345', 'period': {'start': '2001-05-06'}, 'assigner': {'display': 'Doctor Apple'}}], 'active': True, 'name': [{'use': 'official', 'family': 'Chalice', 'given': ['Ein']}, {'use': 'usual', 'given': ['Ein']}, {'use': 'maiden', 'family': 'Chalice', 'given': ['Ein'], 'period': {'end': '2012'}}], 'telecom': [{'use': 'home'}, {'system': 'phone', 'value': '(05) 5564 3373', 'use': 'work', 'rank': 1}, {'system': 'phone', 'value': '(03) 2210 5553', 'use': 'mobile', 'rank': 2}, {'system': 'phone', 'value': '(03) 5775 8884', 'use': 'old', 'period': {'end': '2014'}}], 'gender': 'male', 'birthDate': '1988-02-17', '_birthDate': {'extension': [{'url': 'http://hl7.org/fhir/StructureDefinition/patient-birthTime', 'valueDateTime': '1988-02-17T14:35:45-05:00'}]}, 'deceasedBoolean': False, 'address': [{'use': 'home', 'type': 'both', 'text': '8875 Costa Verde Blvd, San Diego, CA 92212', 'line': ['8875 Costa Verde Blvd'], 'city': 'San Diego', 'district': 'San Diego', 'state': 'CA', 'postalCode': '92212', 'period': {'start': '2012-12-25'}}], 'contact': [{'relationship': [{'coding': [{'system': 'http://terminology.hl7.org/CodeSystem/v2-0131', 'code': 'N'}]}], 'name': {'family': 'Mee', '_family': {'extension': [{'url': 'http://hl7.org/fhir/StructureDefinition/humanname-own-prefix', 'valueString': 'VV'}]}, 'given': ['Honey']}, 'telecom': [{'system': 'phone', 'value': '+33 (233) 555327'}], 'address': {'use': 'home', 'type': 'both', 'line': ['534 Erewhon St'], 'city': 'PleasantVille', 'district': 'Rainbow', 'state': 'Vic', 'postalCode': '3999', 'period': {'start': '1974-12-25'}}, 'gender': 'female', 'period': {'start': '2012'}}], 'managingOrganization': {'reference': 'Organization/1'}}], 'timestamp': 1668954225.7135348, 'previous_hash': '073e933ec4b052f87cf71f6eae7672d8df6416fbc8c2573545d440c6320d2bcc', 'nonce': 2, 'hash': '0ed603d9cfd82d17c1d1e4b9c28bef0dfcace61d6da6a8941e61418904f81a2a'}, Block: {'index': 3, 'data': [{'resourceType': 'Patient', 'id': 'example', 'text': {'status': 'generated', 'div': '<div xmlns=\"http://www.w3.org/1999/xhtml\">\\n\\t\\t\\t<table>\\n\\t\\t\\t\\t<tbody>\\n\\t\\t\\t\\t\\t<tr>\\n\\t\\t\\t\\t\\t\\t<td>Name</td>\\n\\t\\t\\t\\t\\t\\t<td>Peter James3 \\n              <b>Chalmers</b> (&quot;Jim&quot;)\\n            </td>\\n\\t\\t\\t\\t\\t</tr>\\n\\t\\t\\t\\t\\t<tr>\\n\\t\\t\\t\\t\\t\\t<td>Address</td>\\n\\t\\t\\t\\t\\t\\t<td>534 Erewhon, Pleasantville, Vic, 3999</td>\\n\\t\\t\\t\\t\\t</tr>\\n\\t\\t\\t\\t\\t<tr>\\n\\t\\t\\t\\t\\t\\t<td>Contacts</td>\\n\\t\\t\\t\\t\\t\\t<td>Home: unknown. Work: (03) 5555 6473</td>\\n\\t\\t\\t\\t\\t</tr>\\n\\t\\t\\t\\t\\t<tr>\\n\\t\\t\\t\\t\\t\\t<td>Id</td>\\n\\t\\t\\t\\t\\t\\t<td>MRN: 12345 (Acme Healthcare)</td>\\n\\t\\t\\t\\t\\t</tr>\\n\\t\\t\\t\\t</tbody>\\n\\t\\t\\t</table>\\n\\t\\t</div>'}, 'identifier': [{'use': 'usual', 'type': {'coding': [{'system': 'http://terminology.hl7.org/CodeSystem/v2-0203', 'code': 'MR'}]}, 'system': 'urn:oid:1.2.36.146.595.217.0.1', 'value': '12345', 'period': {'start': '2001-05-06'}, 'assigner': {'display': 'Doctor Apple'}}], 'active': True, 'name': [{'use': 'official', 'family': 'Elias', 'given': ['Jonathan']}, {'use': 'usual', 'given': ['Jonathan']}, {'use': 'maiden', 'family': 'Elias', 'given': ['Jonathan'], 'period': {'end': '2002'}}], 'telecom': [{'use': 'home'}, {'system': 'phone', 'value': '(01) 2325 6423', 'use': 'work', 'rank': 1}, {'system': 'phone', 'value': '(03) 3520 5223', 'use': 'mobile', 'rank': 2}, {'system': 'phone', 'value': '(03) 5115 8623', 'use': 'old', 'period': {'end': '2014'}}], 'gender': 'male', 'birthDate': '2000-12-05', '_birthDate': {'extension': [{'url': 'http://hl7.org/fhir/StructureDefinition/patient-birthTime', 'valueDateTime': '2000-12-05T14:35:45-05:00'}]}, 'deceasedBoolean': False, 'address': [{'use': 'home', 'type': 'both', 'text': '3185 Wilshire Blvd, Los Angeles, CA  90010', 'line': ['3185 Wilshire Blvd'], 'city': 'Los Angeles', 'district': 'Los Angeles', 'state': 'CA', 'postalCode': '90010', 'period': {'start': '2019-12-25'}}], 'contact': [{'relationship': [{'coding': [{'system': 'http://terminology.hl7.org/CodeSystem/v2-0131', 'code': 'N'}]}], 'name': {'family': 'Clinton', '_family': {'extension': [{'url': 'http://hl7.org/fhir/StructureDefinition/humanname-own-prefix', 'valueString': 'VV'}]}, 'given': ['Peterson']}, 'telecom': [{'system': 'phone', 'value': '+32 (227) 996117'}], 'address': {'use': 'home', 'type': 'both', 'line': ['534 Erewhon St'], 'city': 'PleasantVille', 'district': 'Rainbow', 'state': 'Vic', 'postalCode': '3999', 'period': {'start': '1974-12-25'}}, 'gender': 'female', 'period': {'start': '2012'}}], 'managingOrganization': {'reference': 'Organization/1'}}], 'timestamp': 1668954226.0011625, 'previous_hash': '0ed603d9cfd82d17c1d1e4b9c28bef0dfcace61d6da6a8941e61418904f81a2a', 'nonce': 29, 'hash': '08ddc2af913a5c55d45a0610391f5f848d1f0ef72a125f0f2c6292a401a89528'}]\n"
     ]
    }
   ],
   "source": [
    "print(blockchain.chain)"
   ]
  },
  {
   "cell_type": "code",
   "execution_count": 21,
   "id": "29dc1843",
   "metadata": {},
   "outputs": [
    {
     "name": "stdout",
     "output_type": "stream",
     "text": [
      "Integrity Ensured\n"
     ]
    },
    {
     "data": {
      "text/plain": [
       "True"
      ]
     },
     "execution_count": 21,
     "metadata": {},
     "output_type": "execute_result"
    }
   ],
   "source": [
    "blockchain.verify_integrity()"
   ]
  },
  {
   "cell_type": "code",
   "execution_count": 24,
   "id": "73b3cf61",
   "metadata": {},
   "outputs": [],
   "source": [
    "blockchain.chain[0].data={}"
   ]
  },
  {
   "cell_type": "code",
   "execution_count": 25,
   "id": "43d98ed5",
   "metadata": {},
   "outputs": [
    {
     "name": "stdout",
     "output_type": "stream",
     "text": [
      "646e13713ebe7dd66908b36c27d0d2ea7ee136e6b27568cd36fe6b5a2fb66486\n",
      "72fdf6dca1e9f2ad63c00a92071df88484a287b1300c152833b6e6f857c534a9\n",
      "Integrity Failed\n",
      "Block 0 got unverified change.\n"
     ]
    },
    {
     "data": {
      "text/plain": [
       "False"
      ]
     },
     "execution_count": 25,
     "metadata": {},
     "output_type": "execute_result"
    }
   ],
   "source": [
    "blockchain.verify_integrity()"
   ]
  },
  {
   "cell_type": "code",
   "execution_count": 17,
   "id": "227be271",
   "metadata": {},
   "outputs": [
    {
     "name": "stdout",
     "output_type": "stream",
     "text": [
      "1\n",
      "[Block: {'index': 2, 'data': [{'resourceType': 'Patient', 'id': 'example', 'text': {'status': 'generated', 'div': '<div xmlns=\"http://www.w3.org/1999/xhtml\">\\n\\t\\t\\t<table>\\n\\t\\t\\t\\t<tbody>\\n\\t\\t\\t\\t\\t<tr>\\n\\t\\t\\t\\t\\t\\t<td>Name</td>\\n\\t\\t\\t\\t\\t\\t<td>Peter James \\n              <b>Chalmers</b> (&quot;Jim&quot;)\\n            </td>\\n\\t\\t\\t\\t\\t</tr>\\n\\t\\t\\t\\t\\t<tr>\\n\\t\\t\\t\\t\\t\\t<td>Address</td>\\n\\t\\t\\t\\t\\t\\t<td>534 Erewhon, Pleasantville, Vic, 3999</td>\\n\\t\\t\\t\\t\\t</tr>\\n\\t\\t\\t\\t\\t<tr>\\n\\t\\t\\t\\t\\t\\t<td>Contacts</td>\\n\\t\\t\\t\\t\\t\\t<td>Home: unknown. Work: (03) 5555 6473</td>\\n\\t\\t\\t\\t\\t</tr>\\n\\t\\t\\t\\t\\t<tr>\\n\\t\\t\\t\\t\\t\\t<td>Id</td>\\n\\t\\t\\t\\t\\t\\t<td>MRN: 12345 (Acme Healthcare)</td>\\n\\t\\t\\t\\t\\t</tr>\\n\\t\\t\\t\\t</tbody>\\n\\t\\t\\t</table>\\n\\t\\t</div>'}, 'identifier': [{'use': 'usual', 'type': {'coding': [{'system': 'http://terminology.hl7.org/CodeSystem/v2-0203', 'code': 'MR'}]}, 'system': 'urn:oid:1.2.36.146.595.217.0.1', 'value': '12345', 'period': {'start': '2001-05-06'}, 'assigner': {'display': 'Doctor Apple'}}], 'active': True, 'name': [{'use': 'official', 'family': 'Chalice', 'given': ['Ein']}, {'use': 'usual', 'given': ['Ein']}, {'use': 'maiden', 'family': 'Chalice', 'given': ['Ein'], 'period': {'end': '2012'}}], 'telecom': [{'use': 'home'}, {'system': 'phone', 'value': '(05) 5564 3373', 'use': 'work', 'rank': 1}, {'system': 'phone', 'value': '(03) 2210 5553', 'use': 'mobile', 'rank': 2}, {'system': 'phone', 'value': '(03) 5775 8884', 'use': 'old', 'period': {'end': '2014'}}], 'gender': 'male', 'birthDate': '1988-02-17', '_birthDate': {'extension': [{'url': 'http://hl7.org/fhir/StructureDefinition/patient-birthTime', 'valueDateTime': '1988-02-17T14:35:45-05:00'}]}, 'deceasedBoolean': False, 'address': [{'use': 'home', 'type': 'both', 'text': '8875 Costa Verde Blvd, San Diego, CA 92212', 'line': ['8875 Costa Verde Blvd'], 'city': 'San Diego', 'district': 'San Diego', 'state': 'CA', 'postalCode': '92212', 'period': {'start': '2012-12-25'}}], 'contact': [{'relationship': [{'coding': [{'system': 'http://terminology.hl7.org/CodeSystem/v2-0131', 'code': 'N'}]}], 'name': {'family': 'Mee', '_family': {'extension': [{'url': 'http://hl7.org/fhir/StructureDefinition/humanname-own-prefix', 'valueString': 'VV'}]}, 'given': ['Honey']}, 'telecom': [{'system': 'phone', 'value': '+33 (233) 555327'}], 'address': {'use': 'home', 'type': 'both', 'line': ['534 Erewhon St'], 'city': 'PleasantVille', 'district': 'Rainbow', 'state': 'Vic', 'postalCode': '3999', 'period': {'start': '1974-12-25'}}, 'gender': 'female', 'period': {'start': '2012'}}], 'managingOrganization': {'reference': 'Organization/1'}}], 'timestamp': 1668942221.1355712, 'previous_hash': '0db75c70510f081ba78cf9973ba5d49d8a4e0dbb77c38fcbf4411c23ecb47246', 'nonce': 16, 'hash': '0a0ae2355acb9f52eb38f2ef45b653a884bbd717a828b394fb0637782603b325'}, Block: {'index': 3, 'data': [{'resourceType': 'Patient', 'id': 'example', 'text': {'status': 'generated', 'div': '<div xmlns=\"http://www.w3.org/1999/xhtml\">\\n\\t\\t\\t<table>\\n\\t\\t\\t\\t<tbody>\\n\\t\\t\\t\\t\\t<tr>\\n\\t\\t\\t\\t\\t\\t<td>Name</td>\\n\\t\\t\\t\\t\\t\\t<td>Peter James \\n              <b>Chalmers</b> (&quot;Jim&quot;)\\n            </td>\\n\\t\\t\\t\\t\\t</tr>\\n\\t\\t\\t\\t\\t<tr>\\n\\t\\t\\t\\t\\t\\t<td>Address</td>\\n\\t\\t\\t\\t\\t\\t<td>534 Erewhon, Pleasantville, Vic, 3999</td>\\n\\t\\t\\t\\t\\t</tr>\\n\\t\\t\\t\\t\\t<tr>\\n\\t\\t\\t\\t\\t\\t<td>Contacts</td>\\n\\t\\t\\t\\t\\t\\t<td>Home: unknown. Work: (03) 5555 6473</td>\\n\\t\\t\\t\\t\\t</tr>\\n\\t\\t\\t\\t\\t<tr>\\n\\t\\t\\t\\t\\t\\t<td>Id</td>\\n\\t\\t\\t\\t\\t\\t<td>MRN: 12345 (Acme Healthcare)</td>\\n\\t\\t\\t\\t\\t</tr>\\n\\t\\t\\t\\t</tbody>\\n\\t\\t\\t</table>\\n\\t\\t</div>'}, 'identifier': [{'use': 'usual', 'type': {'coding': [{'system': 'http://terminology.hl7.org/CodeSystem/v2-0203', 'code': 'MR'}]}, 'system': 'urn:oid:1.2.36.146.595.217.0.1', 'value': '12345', 'period': {'start': '2001-05-06'}, 'assigner': {'display': 'Doctor Apple'}}], 'active': True, 'name': [{'use': 'official', 'family': 'Elias', 'given': ['Jonathan']}, {'use': 'usual', 'given': ['Jonathan']}, {'use': 'maiden', 'family': 'Elias', 'given': ['Jonathan'], 'period': {'end': '2002'}}], 'telecom': [{'use': 'home'}, {'system': 'phone', 'value': '(01) 2325 6423', 'use': 'work', 'rank': 1}, {'system': 'phone', 'value': '(03) 3520 5223', 'use': 'mobile', 'rank': 2}, {'system': 'phone', 'value': '(03) 5115 8623', 'use': 'old', 'period': {'end': '2014'}}], 'gender': 'male', 'birthDate': '2000-12-05', '_birthDate': {'extension': [{'url': 'http://hl7.org/fhir/StructureDefinition/patient-birthTime', 'valueDateTime': '2000-12-05T14:35:45-05:00'}]}, 'deceasedBoolean': False, 'address': [{'use': 'home', 'type': 'both', 'text': '3185 Wilshire Blvd, Los Angeles, CA  90010', 'line': ['3185 Wilshire Blvd'], 'city': 'Los Angeles', 'district': 'Los Angeles', 'state': 'CA', 'postalCode': '90010', 'period': {'start': '2019-12-25'}}], 'contact': [{'relationship': [{'coding': [{'system': 'http://terminology.hl7.org/CodeSystem/v2-0131', 'code': 'N'}]}], 'name': {'family': 'Clinton', '_family': {'extension': [{'url': 'http://hl7.org/fhir/StructureDefinition/humanname-own-prefix', 'valueString': 'VV'}]}, 'given': ['Peterson']}, 'telecom': [{'system': 'phone', 'value': '+32 (227) 996117'}], 'address': {'use': 'home', 'type': 'both', 'line': ['534 Erewhon St'], 'city': 'PleasantVille', 'district': 'Rainbow', 'state': 'Vic', 'postalCode': '3999', 'period': {'start': '1974-12-25'}}, 'gender': 'female', 'period': {'start': '2012'}}], 'managingOrganization': {'reference': 'Organization/1'}}], 'timestamp': 1668942221.4250264, 'previous_hash': '0a0ae2355acb9f52eb38f2ef45b653a884bbd717a828b394fb0637782603b325', 'nonce': 11, 'hash': '0374bdeafe06e34d52c4b36256e2030eb1b8729a18944b1ea8d1165f78a7bee2'}]\n",
      "[Block: {'index': 0, 'data': [], 'timestamp': 1668942220.3248909, 'previous_hash': 0, 'nonce': 0, 'hash': 'e04c1f42d6f61c703f0fed1752e4f2c4de203e99cf97b457aa60ee8a1bca2fb0'}]\n",
      "Mining block 1\n",
      "Difficulty: 1\n",
      "Computed hash: 01b42c8e26738627eb53326bc6f48b5ed44b3c0490e1254e105ff4467eac3208\n",
      "Nonce: 4\n",
      "Elapsed time: 0:00:00.000610\n",
      "Mining block 2\n",
      "Difficulty: 1\n",
      "Computed hash: 0dd45e808ce4c24340262dfd433b3dac6eeb2e2e4d7268378c50e16f70f8e89c\n",
      "Nonce: 14\n",
      "Elapsed time: 0:00:00.000899\n",
      "Mining block 3\n",
      "Difficulty: 1\n",
      "Computed hash: 0fa77262b736b6d17b482c8a15bf2dcf2780afb55ee72d70fbc78a82b757959d\n",
      "Nonce: 9\n",
      "Elapsed time: 0:00:00.000819\n"
     ]
    }
   ],
   "source": [
    "blockchain.edit_by_hash_code(\"0db75c70510f081ba78cf9973ba5d49d8a4e0dbb77c38fcbf4411c23ecb47246\",data)"
   ]
  },
  {
   "cell_type": "code",
   "execution_count": 18,
   "id": "8c678121",
   "metadata": {},
   "outputs": [
    {
     "data": {
      "text/plain": [
       "[Block: {'index': 0, 'data': [], 'timestamp': 1668942220.3248909, 'previous_hash': 0, 'nonce': 0, 'hash': 'e04c1f42d6f61c703f0fed1752e4f2c4de203e99cf97b457aa60ee8a1bca2fb0'},\n",
       " Block: {'index': 1, 'data': [{'resourceType': 'Patient', 'id': 'example', 'text': {'status': 'generated', 'div': '<div xmlns=\"http://www.w3.org/1999/xhtml\">\\n\\t\\t\\t<table>\\n\\t\\t\\t\\t<tbody>\\n\\t\\t\\t\\t\\t<tr>\\n\\t\\t\\t\\t\\t\\t<td>Name</td>\\n\\t\\t\\t\\t\\t\\t<td>Peter James \\n              <b>Chalmers</b> (&quot;Jim&quot;)\\n            </td>\\n\\t\\t\\t\\t\\t</tr>\\n\\t\\t\\t\\t\\t<tr>\\n\\t\\t\\t\\t\\t\\t<td>Address</td>\\n\\t\\t\\t\\t\\t\\t<td>534 Erewhon, Pleasantville, Vic, 3999</td>\\n\\t\\t\\t\\t\\t</tr>\\n\\t\\t\\t\\t\\t<tr>\\n\\t\\t\\t\\t\\t\\t<td>Contacts</td>\\n\\t\\t\\t\\t\\t\\t<td>Home: unknown. Work: (03) 5555 6473</td>\\n\\t\\t\\t\\t\\t</tr>\\n\\t\\t\\t\\t\\t<tr>\\n\\t\\t\\t\\t\\t\\t<td>Id</td>\\n\\t\\t\\t\\t\\t\\t<td>MRN: 12345 (Acme Healthcare)</td>\\n\\t\\t\\t\\t\\t</tr>\\n\\t\\t\\t\\t</tbody>\\n\\t\\t\\t</table>\\n\\t\\t</div>'}, 'identifier': [{'use': 'usual', 'type': {'coding': [{'system': 'http://terminology.hl7.org/CodeSystem/v2-0203', 'code': 'MR'}]}, 'system': 'urn:oid:1.2.36.146.595.217.0.1', 'value': '12345', 'period': {'start': '2001-05-06'}, 'assigner': {'display': 'Doctor Apple'}}], 'active': True, 'name': [{'use': 'official', 'family': 'Elias', 'given': ['Jonathan']}, {'use': 'usual', 'given': ['Jonathan']}, {'use': 'maiden', 'family': 'Elias', 'given': ['Jonathan'], 'period': {'end': '2002'}}], 'telecom': [{'use': 'home'}, {'system': 'phone', 'value': '(01) 2325 6423', 'use': 'work', 'rank': 1}, {'system': 'phone', 'value': '(03) 3520 5223', 'use': 'mobile', 'rank': 2}, {'system': 'phone', 'value': '(03) 5115 8623', 'use': 'old', 'period': {'end': '2014'}}], 'gender': 'male', 'birthDate': '2000-12-05', '_birthDate': {'extension': [{'url': 'http://hl7.org/fhir/StructureDefinition/patient-birthTime', 'valueDateTime': '2000-12-05T14:35:45-05:00'}]}, 'deceasedBoolean': False, 'address': [{'use': 'home', 'type': 'both', 'text': '3185 Wilshire Blvd, Los Angeles, CA  90010', 'line': ['3185 Wilshire Blvd'], 'city': 'Los Angeles', 'district': 'Los Angeles', 'state': 'CA', 'postalCode': '90010', 'period': {'start': '2019-12-25'}}], 'contact': [{'relationship': [{'coding': [{'system': 'http://terminology.hl7.org/CodeSystem/v2-0131', 'code': 'N'}]}], 'name': {'family': 'Clinton', '_family': {'extension': [{'url': 'http://hl7.org/fhir/StructureDefinition/humanname-own-prefix', 'valueString': 'VV'}]}, 'given': ['Peterson']}, 'telecom': [{'system': 'phone', 'value': '+32 (227) 996117'}], 'address': {'use': 'home', 'type': 'both', 'line': ['534 Erewhon St'], 'city': 'PleasantVille', 'district': 'Rainbow', 'state': 'Vic', 'postalCode': '3999', 'period': {'start': '1974-12-25'}}, 'gender': 'female', 'period': {'start': '2012'}}], 'managingOrganization': {'reference': 'Organization/1'}}], 'timestamp': 1668942241.1589534, 'previous_hash': 'e04c1f42d6f61c703f0fed1752e4f2c4de203e99cf97b457aa60ee8a1bca2fb0', 'nonce': 4, 'hash': '01b42c8e26738627eb53326bc6f48b5ed44b3c0490e1254e105ff4467eac3208'},\n",
       " Block: {'index': 2, 'data': [[{'resourceType': 'Patient', 'id': 'example', 'text': {'status': 'generated', 'div': '<div xmlns=\"http://www.w3.org/1999/xhtml\">\\n\\t\\t\\t<table>\\n\\t\\t\\t\\t<tbody>\\n\\t\\t\\t\\t\\t<tr>\\n\\t\\t\\t\\t\\t\\t<td>Name</td>\\n\\t\\t\\t\\t\\t\\t<td>Peter James \\n              <b>Chalmers</b> (&quot;Jim&quot;)\\n            </td>\\n\\t\\t\\t\\t\\t</tr>\\n\\t\\t\\t\\t\\t<tr>\\n\\t\\t\\t\\t\\t\\t<td>Address</td>\\n\\t\\t\\t\\t\\t\\t<td>534 Erewhon, Pleasantville, Vic, 3999</td>\\n\\t\\t\\t\\t\\t</tr>\\n\\t\\t\\t\\t\\t<tr>\\n\\t\\t\\t\\t\\t\\t<td>Contacts</td>\\n\\t\\t\\t\\t\\t\\t<td>Home: unknown. Work: (03) 5555 6473</td>\\n\\t\\t\\t\\t\\t</tr>\\n\\t\\t\\t\\t\\t<tr>\\n\\t\\t\\t\\t\\t\\t<td>Id</td>\\n\\t\\t\\t\\t\\t\\t<td>MRN: 12345 (Acme Healthcare)</td>\\n\\t\\t\\t\\t\\t</tr>\\n\\t\\t\\t\\t</tbody>\\n\\t\\t\\t</table>\\n\\t\\t</div>'}, 'identifier': [{'use': 'usual', 'type': {'coding': [{'system': 'http://terminology.hl7.org/CodeSystem/v2-0203', 'code': 'MR'}]}, 'system': 'urn:oid:1.2.36.146.595.217.0.1', 'value': '12345', 'period': {'start': '2001-05-06'}, 'assigner': {'display': 'Doctor Apple'}}], 'active': True, 'name': [{'use': 'official', 'family': 'Chalice', 'given': ['Ein']}, {'use': 'usual', 'given': ['Ein']}, {'use': 'maiden', 'family': 'Chalice', 'given': ['Ein'], 'period': {'end': '2012'}}], 'telecom': [{'use': 'home'}, {'system': 'phone', 'value': '(05) 5564 3373', 'use': 'work', 'rank': 1}, {'system': 'phone', 'value': '(03) 2210 5553', 'use': 'mobile', 'rank': 2}, {'system': 'phone', 'value': '(03) 5775 8884', 'use': 'old', 'period': {'end': '2014'}}], 'gender': 'male', 'birthDate': '1988-02-17', '_birthDate': {'extension': [{'url': 'http://hl7.org/fhir/StructureDefinition/patient-birthTime', 'valueDateTime': '1988-02-17T14:35:45-05:00'}]}, 'deceasedBoolean': False, 'address': [{'use': 'home', 'type': 'both', 'text': '8875 Costa Verde Blvd, San Diego, CA 92212', 'line': ['8875 Costa Verde Blvd'], 'city': 'San Diego', 'district': 'San Diego', 'state': 'CA', 'postalCode': '92212', 'period': {'start': '2012-12-25'}}], 'contact': [{'relationship': [{'coding': [{'system': 'http://terminology.hl7.org/CodeSystem/v2-0131', 'code': 'N'}]}], 'name': {'family': 'Mee', '_family': {'extension': [{'url': 'http://hl7.org/fhir/StructureDefinition/humanname-own-prefix', 'valueString': 'VV'}]}, 'given': ['Honey']}, 'telecom': [{'system': 'phone', 'value': '+33 (233) 555327'}], 'address': {'use': 'home', 'type': 'both', 'line': ['534 Erewhon St'], 'city': 'PleasantVille', 'district': 'Rainbow', 'state': 'Vic', 'postalCode': '3999', 'period': {'start': '1974-12-25'}}, 'gender': 'female', 'period': {'start': '2012'}}], 'managingOrganization': {'reference': 'Organization/1'}}]], 'timestamp': 1668942241.1599505, 'previous_hash': '01b42c8e26738627eb53326bc6f48b5ed44b3c0490e1254e105ff4467eac3208', 'nonce': 14, 'hash': '0dd45e808ce4c24340262dfd433b3dac6eeb2e2e4d7268378c50e16f70f8e89c'},\n",
       " Block: {'index': 3, 'data': [[{'resourceType': 'Patient', 'id': 'example', 'text': {'status': 'generated', 'div': '<div xmlns=\"http://www.w3.org/1999/xhtml\">\\n\\t\\t\\t<table>\\n\\t\\t\\t\\t<tbody>\\n\\t\\t\\t\\t\\t<tr>\\n\\t\\t\\t\\t\\t\\t<td>Name</td>\\n\\t\\t\\t\\t\\t\\t<td>Peter James \\n              <b>Chalmers</b> (&quot;Jim&quot;)\\n            </td>\\n\\t\\t\\t\\t\\t</tr>\\n\\t\\t\\t\\t\\t<tr>\\n\\t\\t\\t\\t\\t\\t<td>Address</td>\\n\\t\\t\\t\\t\\t\\t<td>534 Erewhon, Pleasantville, Vic, 3999</td>\\n\\t\\t\\t\\t\\t</tr>\\n\\t\\t\\t\\t\\t<tr>\\n\\t\\t\\t\\t\\t\\t<td>Contacts</td>\\n\\t\\t\\t\\t\\t\\t<td>Home: unknown. Work: (03) 5555 6473</td>\\n\\t\\t\\t\\t\\t</tr>\\n\\t\\t\\t\\t\\t<tr>\\n\\t\\t\\t\\t\\t\\t<td>Id</td>\\n\\t\\t\\t\\t\\t\\t<td>MRN: 12345 (Acme Healthcare)</td>\\n\\t\\t\\t\\t\\t</tr>\\n\\t\\t\\t\\t</tbody>\\n\\t\\t\\t</table>\\n\\t\\t</div>'}, 'identifier': [{'use': 'usual', 'type': {'coding': [{'system': 'http://terminology.hl7.org/CodeSystem/v2-0203', 'code': 'MR'}]}, 'system': 'urn:oid:1.2.36.146.595.217.0.1', 'value': '12345', 'period': {'start': '2001-05-06'}, 'assigner': {'display': 'Doctor Apple'}}], 'active': True, 'name': [{'use': 'official', 'family': 'Elias', 'given': ['Jonathan']}, {'use': 'usual', 'given': ['Jonathan']}, {'use': 'maiden', 'family': 'Elias', 'given': ['Jonathan'], 'period': {'end': '2002'}}], 'telecom': [{'use': 'home'}, {'system': 'phone', 'value': '(01) 2325 6423', 'use': 'work', 'rank': 1}, {'system': 'phone', 'value': '(03) 3520 5223', 'use': 'mobile', 'rank': 2}, {'system': 'phone', 'value': '(03) 5115 8623', 'use': 'old', 'period': {'end': '2014'}}], 'gender': 'male', 'birthDate': '2000-12-05', '_birthDate': {'extension': [{'url': 'http://hl7.org/fhir/StructureDefinition/patient-birthTime', 'valueDateTime': '2000-12-05T14:35:45-05:00'}]}, 'deceasedBoolean': False, 'address': [{'use': 'home', 'type': 'both', 'text': '3185 Wilshire Blvd, Los Angeles, CA  90010', 'line': ['3185 Wilshire Blvd'], 'city': 'Los Angeles', 'district': 'Los Angeles', 'state': 'CA', 'postalCode': '90010', 'period': {'start': '2019-12-25'}}], 'contact': [{'relationship': [{'coding': [{'system': 'http://terminology.hl7.org/CodeSystem/v2-0131', 'code': 'N'}]}], 'name': {'family': 'Clinton', '_family': {'extension': [{'url': 'http://hl7.org/fhir/StructureDefinition/humanname-own-prefix', 'valueString': 'VV'}]}, 'given': ['Peterson']}, 'telecom': [{'system': 'phone', 'value': '+32 (227) 996117'}], 'address': {'use': 'home', 'type': 'both', 'line': ['534 Erewhon St'], 'city': 'PleasantVille', 'district': 'Rainbow', 'state': 'Vic', 'postalCode': '3999', 'period': {'start': '1974-12-25'}}, 'gender': 'female', 'period': {'start': '2012'}}], 'managingOrganization': {'reference': 'Organization/1'}}]], 'timestamp': 1668942241.1609483, 'previous_hash': '0dd45e808ce4c24340262dfd433b3dac6eeb2e2e4d7268378c50e16f70f8e89c', 'nonce': 9, 'hash': '0fa77262b736b6d17b482c8a15bf2dcf2780afb55ee72d70fbc78a82b757959d'}]"
      ]
     },
     "execution_count": 18,
     "metadata": {},
     "output_type": "execute_result"
    }
   ],
   "source": [
    "blockchain.chain"
   ]
  },
  {
   "cell_type": "code",
   "execution_count": null,
   "id": "dbb4bad8",
   "metadata": {},
   "outputs": [],
   "source": []
  }
 ],
 "metadata": {
  "kernelspec": {
   "display_name": "Python 3 (ipykernel)",
   "language": "python",
   "name": "python3"
  },
  "language_info": {
   "codemirror_mode": {
    "name": "ipython",
    "version": 3
   },
   "file_extension": ".py",
   "mimetype": "text/x-python",
   "name": "python",
   "nbconvert_exporter": "python",
   "pygments_lexer": "ipython3",
   "version": "3.9.7"
  }
 },
 "nbformat": 4,
 "nbformat_minor": 5
}
